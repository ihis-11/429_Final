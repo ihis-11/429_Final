{
 "cells": [
  {
   "cell_type": "markdown",
   "id": "b9283810-1cc3-400b-ab0d-2b29ad77917f",
   "metadata": {},
   "source": [
    "### Finetuning and training the Pytorch-i3d model\n",
    "Code taken from: https://github.com/piergiaj/pytorch-i3d/blob/master/train_i3d.py \n",
    "\n",
    "Note: This code was written for PyTorch 0.3. Version 0.4 and newer may cause issues."
   ]
  },
  {
   "cell_type": "markdown",
   "id": "5fbf0b21-10bf-490d-9dd2-95e35d3114e6",
   "metadata": {},
   "source": [
    "To-dos:\n",
    "1. extract videos and add labels (the line `return images, 0` assigns the label 0 to every images in the code for class `Dataset`. I have chosen the top few single-class labels in `preprocess.ipynb`, see the last cell to get the labels and associated videos through the video names, `v_names`)\n",
    "2. streamline process for training pre-trained model (loaded via `i3d.load_state_dict(torch.load('rgb_imagenet.pt'))`) (possibly creating a .py script, no need to change layers yet)\n",
    "3. run the baseline model and record baseline performance\n",
    "4. write the code for editing layers in the pretrained model"
   ]
  },
  {
   "cell_type": "markdown",
   "id": "ae6501e6-193d-4edf-a388-1ea00a5a9f81",
   "metadata": {},
   "source": [
    "# Import packages"
   ]
  },
  {
   "cell_type": "code",
   "execution_count": 1,
   "id": "56422195-b081-4f3d-8b9a-8d541d0bad5c",
   "metadata": {},
   "outputs": [],
   "source": [
    "import os\n",
    "from sklearn.metrics import accuracy_score, f1_score, confusion_matrix, precision_score\n",
    "os.environ[\"CUDA_DEVICE_ORDER\"]=\"PCI_BUS_ID\"   \n",
    "os.environ[\"CUDA_VISIBLE_DEVICES\"]='1'\n",
    "# os.environ[\"PYTORCH_CUDA_ALLOC_CONF\"] = \"max_split_size_mb:<1024>\"\n",
    "import sys\n",
    "import argparse\n",
    "import torch\n",
    "import torch.nn as nn\n",
    "import torch.nn.functional as F\n",
    "import torch.optim as optim\n",
    "from torch.optim import lr_scheduler\n",
    "from torch.autograd import Variable\n",
    "import torchvision\n",
    "from torchvision import datasets, transforms\n",
    "import videotransforms\n",
    "import numpy as np\n",
    "from pytorch_i3d import InceptionI3d\n",
    "import numpy as np\n",
    "import glob\n",
    "import random\n",
    "from tensorboardX import SummaryWriter\n",
    "from preprocess import holdout_set\n",
    "import time"
   ]
  },
  {
   "cell_type": "markdown",
   "id": "d266b6f0-d337-4648-b968-9764891edef7",
   "metadata": {},
   "source": [
    "# Construct a dataset class for training the model:"
   ]
  },
  {
   "cell_type": "code",
   "execution_count": 2,
   "id": "4a76d20a-aa79-438d-95f9-b62477c305b3",
   "metadata": {},
   "outputs": [],
   "source": [
    "class dataset(torch.utils.data.Dataset):\n",
    "    \n",
    "    def __init__(self, paths, v_names, v_labels, num_samples=16): # num_samples cannot be lower than 16\n",
    "        self.num_samples = num_samples\n",
    "        self.frames = dict()\n",
    "        for p in paths:\n",
    "            self.frames[p] = sorted(glob.glob(p+\"/*.jpg\"))\n",
    "        self.data = paths\n",
    "        self.video_names = v_names\n",
    "        self.video_labels = v_labels\n",
    "        \n",
    "    def __len__(self):\n",
    "        return len(self.data)\n",
    "    \n",
    "    def __getitem__(self, idx):\n",
    "        p = self.data[idx]\n",
    "        num_frames = len(self.frames[p])-1\n",
    "        sampled_idx = np.linspace(0, num_frames, self.num_samples) #get num_samples frames from the video\n",
    "        images = []\n",
    "        index = np.where(self.video_names == p.split('/')[-1]) #index of p's video name in video_names\n",
    "        label_video = self.video_labels[index] # the labels for the video\n",
    "        for i in sampled_idx:\n",
    "            image = torchvision.io.read_image(self.frames[p][int(i)])\n",
    "            small_dim = min(image.shape[-2:])\n",
    "            image = torchvision.transforms.functional.center_crop(image, (small_dim, small_dim))\n",
    "            image = torchvision.transforms.functional.resize(image, (224, 224), antialias=True)\n",
    "            images.append(image)\n",
    "        images = torch.stack(images, axis=1)\n",
    "        images = (images/255)*2 - 1 #values are between -1 and 1\n",
    "        return images, label_video "
   ]
  },
  {
   "cell_type": "markdown",
   "id": "da4ed965-0b85-44f6-97bc-25383f510cf8",
   "metadata": {},
   "source": [
    "# Extract data and labels"
   ]
  },
  {
   "cell_type": "code",
   "execution_count": 3,
   "id": "31b8f33d-88ce-487f-be31-ac12c2487082",
   "metadata": {},
   "outputs": [],
   "source": [
    "def creating_datasets():\n",
    "    video_train, video_val, label_train, label_val, unique_labels = holdout_set(0.25) #valid names and videos\n",
    "    batch_size = 10 # batch size in training\n",
    "    num_videos_train = len(video_train)\n",
    "    num_videos_val = len(video_val)\n",
    "    num_classes = len(set(label_train)) #count unique in labels\n",
    "\n",
    "    video_frames_path = \"/scratch/network/hishimwe/image\" \n",
    "    # only extract the videos with v_names and v_labels from preprocess.ipynb \n",
    "    paths = glob.glob(video_frames_path+\"/*\")\n",
    "    random.seed(0)\n",
    "    random.shuffle(paths)\n",
    "\n",
    "    good_paths_train = list(filter(lambda c: c.split('/')[-1] in video_train, paths)) #should only get path where good video name; not sure if this filtering will work \n",
    "    good_paths_val = list(filter(lambda c: c.split('/')[-1] in video_val, paths)) # validation video paths \n",
    "\n",
    "    d_train = dataset(paths=good_paths_train, v_names=video_train, v_labels= label_train)\n",
    "    d_val = dataset(paths=good_paths_val, v_names=video_val, v_labels= label_val)\n",
    "\n",
    "    loader_train = torch.utils.data.DataLoader(d_train, shuffle=True, batch_size=batch_size, drop_last=False, num_workers=4)\n",
    "    loader_val = torch.utils.data.DataLoader(d_val, shuffle=True, batch_size=batch_size, drop_last=False, num_workers=4)\n",
    "    \n",
    "    return loader_train, loader_val, unique_labels, num_classes"
   ]
  },
  {
   "cell_type": "markdown",
   "id": "a9aef6b0-74db-4430-b114-ff98293d9c23",
   "metadata": {},
   "source": [
    "# Construct the model:"
   ]
  },
  {
   "cell_type": "code",
   "execution_count": 4,
   "id": "79d5aef8-0ec0-4f25-b834-bad03e2fb320",
   "metadata": {
    "tags": []
   },
   "outputs": [
    {
     "name": "stdout",
     "output_type": "stream",
     "text": [
      "time taken: 1.1172072887420654 seconds\n"
     ]
    }
   ],
   "source": [
    "loader_train, loader_val, unique_labels, num_classes = creating_datasets() \n",
    "\n",
    "start_time = time.time() \n",
    "i3d = InceptionI3d(400, in_channels=3) # first input is num_classes \n",
    "i3d.load_state_dict(torch.load('rgb_imagenet.pt'), strict=False) #added strict = false; theoretically this lets us add layers\n",
    "i3d.replace_logits(num_classes)\n",
    "i3d.cuda()\n",
    "\n",
    "print(f\"time taken: {time.time()-start_time} seconds\")"
   ]
  },
  {
   "cell_type": "markdown",
   "id": "fc2c9861-1c82-4c7b-a38d-ae5c9f609ee3",
   "metadata": {},
   "source": [
    "# Function to evaluate model performance:"
   ]
  },
  {
   "cell_type": "code",
   "execution_count": 5,
   "id": "97a26778",
   "metadata": {},
   "outputs": [],
   "source": [
    "#returns accuracy, f1 score, average f1, and confusion matrix for the data\n",
    "def eval_metrics(ground_truth, predictions, num_classes):\n",
    "\n",
    "    #dictionary containing the accuracy, precision, f1, avg f1, and confusion matrix for the data\n",
    "    f1 = f1_score(y_true=ground_truth, y_pred=predictions, labels=np.arange(num_classes), average=None)\n",
    "    metrics = {\n",
    "        \"accuracy\": accuracy_score(y_true=ground_truth, y_pred=predictions),\n",
    "        \"f1\": f1,\n",
    "        \"average f1\": np.mean(f1),\n",
    "        \"confusion matrix\": confusion_matrix(y_true=ground_truth, y_pred=predictions, labels=np.arange(num_classes)),\n",
    "        \"precision\": precision_score(y_true=ground_truth, y_pred=predictions, labels=np.arange(num_classes), average=None)\n",
    "        }\n",
    "    \n",
    "    return metrics"
   ]
  },
  {
   "cell_type": "code",
   "execution_count": 6,
   "id": "45de9187-6c78-427c-a83e-e22f09b74f17",
   "metadata": {},
   "outputs": [],
   "source": [
    "def training(model, optimizer, loader, num_classes):\n",
    "    losses = []\n",
    "    ground_truth = []\n",
    "    predictions = []\n",
    "    for data, label in loader:\n",
    "        data = data.cuda()\n",
    "        label = label.squeeze().type(torch.LongTensor).cuda()\n",
    "        num_frames = data.size(2)\n",
    "        per_frame_logits = i3d(data).mean(2)\n",
    "        preds = per_frame_logits.cpu().detach().numpy().argmax(axis=1) # convert logits into predictions for evaluating accuracy\n",
    "        \n",
    "        # calculate and save loss\n",
    "        loss = F.cross_entropy(per_frame_logits, label)\n",
    "        losses.append(loss.item()) # append to losses\n",
    "        ground_truth.extend(list(label.cpu().detach().numpy()))\n",
    "        predictions.extend(preds.tolist())\n",
    "        \n",
    "        # perform gradient descent\n",
    "        optimizer.zero_grad()\n",
    "        loss.backward()\n",
    "        optimizer.step()\n",
    "    \n",
    "    metrics = eval_metrics(ground_truth, predictions, num_classes)   \n",
    "    return np.mean(losses), metrics # one loss per epoch and the corresponding metrics        \n"
   ]
  },
  {
   "cell_type": "code",
   "execution_count": null,
   "id": "b890c9a1-9a31-4215-a69a-6abb12cf2bdb",
   "metadata": {},
   "outputs": [],
   "source": [
    "def evaluate(model, loader, num_classes):\n",
    "    losses = []\n",
    "    ground_truth = []\n",
    "    predictions = []\n",
    "    for data, label in loader:\n",
    "        data = data.cuda()\n",
    "        label = label.squeeze().type(torch.LongTensor).cuda()\n",
    "        num_frames = data.size(2)\n",
    "        per_frame_logits = i3d(data).mean(2)\n",
    "        preds = per_frame_logits.cpu().detach().numpy().argmax(axis=1) # convert logits into predictions for evaluating accuracy\n",
    "        \n",
    "        # calculate and save loss\n",
    "        loss = F.cross_entropy(per_frame_logits, label)\n",
    "        losses.append(loss.item()) # append to losses\n",
    "        ground_truth.extend(list(label.cpu().detach().numpy()))\n",
    "        predictions.extend(preds.tolist())\n",
    "        \n",
    "    metrics = eval_metrics(ground_truth, predictions, num_classes)\n",
    "    return np.mean(losses), metrics # one loss per epoch and the corresponding metrics\n",
    "    "
   ]
  },
  {
   "cell_type": "markdown",
   "id": "cff9bb17-34d0-4a24-81c1-e9416b9f786e",
   "metadata": {},
   "source": [
    "# Train:"
   ]
  },
  {
   "cell_type": "code",
   "execution_count": null,
   "id": "dac52e08-f69e-47a4-ac7b-bedf0c8d70ed",
   "metadata": {
    "tags": []
   },
   "outputs": [
    {
     "name": "stdout",
     "output_type": "stream",
     "text": [
      "EPOCH 0\n",
      "TRAINING\n",
      "Loss 2.1675919307566085\n",
      "Accuracy 0.27865667499306135\n",
      "Precision [0.06666667 0.         0.37793852 0.13333333 0.2014218  0.18885449\n",
      " 0.15602837 0.22886598 0.38219895 0.17241379 0.43773585]\n",
      "VALIDATION\n",
      "Loss 1.9157873461069155\n",
      "Accuracy 0.33277870216306155\n",
      "Precision [0.10650888 0.         0.53645833 0.         0.29530201 0.22164948\n",
      " 0.33870968 0.31932773 0.66       0.34782609 0.50526316]\n",
      "Time taken for epoch 0: 3.6150447646776835 mins\n",
      "-----------------------------------------------------------------------\n",
      "EPOCH 1\n"
     ]
    },
    {
     "name": "stderr",
     "output_type": "stream",
     "text": [
      "/home/hishimwe/.conda/envs/new_429/lib/python3.8/site-packages/sklearn/metrics/_classification.py:1344: UndefinedMetricWarning: Precision is ill-defined and being set to 0.0 in labels with no predicted samples. Use `zero_division` parameter to control this behavior.\n",
      "  _warn_prf(average, modifier, msg_start, len(result))\n"
     ]
    },
    {
     "name": "stdout",
     "output_type": "stream",
     "text": [
      "TRAINING\n",
      "Loss 1.8293240440189014\n",
      "Accuracy 0.3807937829586456\n",
      "Precision [0.13095238 0.         0.48266167 0.23076923 0.30252101 0.25609756\n",
      " 0.28623188 0.31130064 0.54625551 0.33802817 0.56370656]\n"
     ]
    },
    {
     "name": "stderr",
     "output_type": "stream",
     "text": [
      "/home/hishimwe/.conda/envs/new_429/lib/python3.8/site-packages/sklearn/metrics/_classification.py:1344: UndefinedMetricWarning: Precision is ill-defined and being set to 0.0 in labels with no predicted samples. Use `zero_division` parameter to control this behavior.\n",
      "  _warn_prf(average, modifier, msg_start, len(result))\n"
     ]
    },
    {
     "name": "stdout",
     "output_type": "stream",
     "text": [
      "VALIDATION\n",
      "Loss 1.7715953928379973\n",
      "Accuracy 0.40931780366056575\n",
      "Precision [0.5        0.         0.51029748 0.33333333 0.37172775 0.232\n",
      " 0.27950311 0.5        0.7826087  0.34615385 0.56410256]\n",
      "Time taken for epoch 1: 3.613905648390452 mins\n",
      "-----------------------------------------------------------------------\n",
      "EPOCH 2\n"
     ]
    },
    {
     "name": "stderr",
     "output_type": "stream",
     "text": [
      "/home/hishimwe/.conda/envs/new_429/lib/python3.8/site-packages/sklearn/metrics/_classification.py:1344: UndefinedMetricWarning: Precision is ill-defined and being set to 0.0 in labels with no predicted samples. Use `zero_division` parameter to control this behavior.\n",
      "  _warn_prf(average, modifier, msg_start, len(result))\n"
     ]
    },
    {
     "name": "stdout",
     "output_type": "stream",
     "text": [
      "TRAINING\n",
      "Loss 1.6888170220845293\n",
      "Accuracy 0.4279766860949209\n",
      "Precision [0.2238806  0.         0.51948052 0.34285714 0.34039334 0.35805627\n",
      " 0.32142857 0.3650108  0.62857143 0.37142857 0.52982456]\n"
     ]
    },
    {
     "name": "stderr",
     "output_type": "stream",
     "text": [
      "/home/hishimwe/.conda/envs/new_429/lib/python3.8/site-packages/sklearn/metrics/_classification.py:1344: UndefinedMetricWarning: Precision is ill-defined and being set to 0.0 in labels with no predicted samples. Use `zero_division` parameter to control this behavior.\n",
      "  _warn_prf(average, modifier, msg_start, len(result))\n"
     ]
    },
    {
     "name": "stdout",
     "output_type": "stream",
     "text": [
      "VALIDATION\n",
      "Loss 1.6227360796337285\n",
      "Accuracy 0.44675540765391014\n",
      "Precision [0.45       0.16666667 0.53444181 0.2        0.33333333 0.28729282\n",
      " 0.48888889 0.43103448 0.675      0.16666667 0.58441558]\n",
      "Time taken for epoch 2: 3.6262500087420144 mins\n",
      "-----------------------------------------------------------------------\n",
      "EPOCH 3\n",
      "TRAINING\n",
      "Loss 1.5211530218824456\n",
      "Accuracy 0.49375520399666945\n",
      "Precision [0.3814433  0.         0.59836901 0.375      0.40758294 0.36117936\n",
      " 0.47811448 0.40976645 0.68312757 0.40601504 0.61672474]\n",
      "VALIDATION\n",
      "Loss 1.610532833524972\n",
      "Accuracy 0.45757071547420963\n",
      "Precision [0.1978022  0.         0.61068702 0.23076923 0.40394089 0.35779817\n",
      " 0.30635838 0.44680851 0.78461538 0.48333333 0.7       ]\n",
      "Time taken for epoch 3: 3.6009892503420513 mins\n",
      "-----------------------------------------------------------------------\n",
      "EPOCH 4\n",
      "TRAINING\n",
      "Loss 1.4230163585281108\n",
      "Accuracy 0.5217873993893978\n",
      "Precision [0.41322314 0.07692308 0.6130031  0.39622642 0.42767296 0.42931937\n",
      " 0.46779661 0.49347826 0.7219917  0.44852941 0.5993266 ]\n",
      "VALIDATION\n",
      "Loss 1.5729842860836627\n",
      "Accuracy 0.4925124792013311\n",
      "Precision [0.25       0.         0.63870968 0.         0.425      0.33695652\n",
      " 0.3852459  0.4185022  0.68235294 0.47619048 0.68852459]\n",
      "Time taken for epoch 4: 3.6293546160062156 mins\n",
      "-----------------------------------------------------------------------\n",
      "EPOCH 5\n",
      "TRAINING\n",
      "Loss 1.2827824907289647\n",
      "Accuracy 0.5645295587010825\n",
      "Precision [0.38392857 0.26666667 0.62978283 0.50980392 0.46218487 0.49131514\n",
      " 0.55409836 0.53138075 0.7601626  0.52380952 0.67605634]\n",
      "VALIDATION\n",
      "Loss 1.5422507558972383\n",
      "Accuracy 0.49750415973377704\n",
      "Precision [0.         0.3        0.62241888 0.16666667 0.44047619 0.37142857\n",
      " 0.45882353 0.41293532 0.69411765 0.3490566  0.5862069 ]\n",
      "Time taken for epoch 5: 3.5986639976501467 mins\n",
      "-----------------------------------------------------------------------\n",
      "EPOCH 6\n",
      "TRAINING\n",
      "Loss 1.1975637044437704\n",
      "Accuracy 0.5997779628087705\n",
      "Precision [0.484375   0.21052632 0.67643865 0.52830189 0.50167785 0.51724138\n",
      " 0.63517915 0.57024793 0.78714859 0.54651163 0.64925373]\n",
      "VALIDATION\n",
      "Loss 1.583138697896122\n",
      "Accuracy 0.5008319467554077\n",
      "Precision [0.35294118 0.         0.62831858 0.         0.38073394 0.34507042\n",
      " 0.53571429 0.44512195 0.59649123 0.44444444 0.64935065]\n",
      "Time taken for epoch 6: 3.6241944750150044 mins\n",
      "-----------------------------------------------------------------------\n",
      "EPOCH 7\n"
     ]
    },
    {
     "name": "stderr",
     "output_type": "stream",
     "text": [
      "/home/hishimwe/.conda/envs/new_429/lib/python3.8/site-packages/sklearn/metrics/_classification.py:1344: UndefinedMetricWarning: Precision is ill-defined and being set to 0.0 in labels with no predicted samples. Use `zero_division` parameter to control this behavior.\n",
      "  _warn_prf(average, modifier, msg_start, len(result))\n"
     ]
    }
   ],
   "source": [
    "# set up gradient descent params\n",
    "optimizer = optim.SGD(i3d.parameters(), lr=0.1, momentum=0.9, weight_decay=0.0000001) # weight_decay = l2 regularization\n",
    "lr_sched = optim.lr_scheduler.MultiStepLR(optimizer, [300, 1000])\n",
    "\n",
    "# set up training variables \n",
    "epochs = 10 \n",
    "\n",
    "train_losses = []\n",
    "train_accuracies = []\n",
    "train_precisions = []\n",
    "val_losses = []\n",
    "val_accuracies = []\n",
    "val_precisions = []\n",
    "\n",
    "# train\n",
    "for e in range(epochs):\n",
    "    start_time = time.time()\n",
    "    \n",
    "    print(\"EPOCH\", e)\n",
    "    \n",
    "    # training\n",
    "    loss_train, metrics_train = training(model=i3d, optimizer=optimizer, loader=loader_train, num_classes=num_classes)\n",
    "    train_losses.append(loss_train)\n",
    "    train_accuracies.append(metrics_train[\"accuracy\"])\n",
    "    train_precisions.append(metrics_train[\"precision\"])\n",
    "    \n",
    "    print(\"TRAINING\")\n",
    "    print(\"Loss\", loss_train)\n",
    "    print(\"Accuracy\", metrics_train[\"accuracy\"])\n",
    "    print(\"Precision\", metrics_train[\"precision\"])\n",
    "    \n",
    "    # validation \n",
    "    loss_val, metrics_val = evaluate(model=i3d, loader=loader_val, num_classes=num_classes)\n",
    "    val_losses.append(loss_val)\n",
    "    val_accuracies.append(metrics_val[\"accuracy\"])\n",
    "    val_precisions.append(metrics_val[\"precision\"])\n",
    "    \n",
    "    print(\"VALIDATION\")\n",
    "    print(\"Loss\", loss_val)\n",
    "    print(\"Accuracy\", metrics_val[\"accuracy\"])\n",
    "    print(\"Precision\", metrics_val[\"precision\"])\n",
    "        \n",
    "    print(f\"Time taken for epoch {e}: {(time.time()-start_time)/60} mins\")\n",
    "    print(\"-----------------------------------------------------------------------\")\n",
    "\n",
    "np.savetxt('losses/train/train_10epochs', np.array(train_losses), delimiter=\",\")\n",
    "np.savetxt('losses/val/val_10epochs', np.array(val_losses), delimiter=\",\")\n",
    "\n",
    "np.savetxt('accuracies/train/train_10epochs', np.array(train_accuracies), delimiter=\",\")\n",
    "np.savetxt('accuracies/val/val_10epochs', np.array(val_accuracies), delimiter=\",\")\n",
    "\n",
    "np.savetxt('precisions/train/train_10epochs', np.array(train_precisions), delimiter=\",\")\n",
    "np.savetxt('precisions/val/val_10epochs', np.array(val_precisions), delimiter=\",\")\n"
   ]
  },
  {
   "cell_type": "code",
   "execution_count": null,
   "id": "076df6ef-fd45-4811-b842-8ed10732aeb2",
   "metadata": {},
   "outputs": [],
   "source": [
    "print(train_losses)\n",
    "print(val_losses)\n",
    "print(train_accuracies)\n",
    "print(val_accuracies)"
   ]
  },
  {
   "cell_type": "markdown",
   "id": "c4dbbf5c-9b13-4545-926a-59c5dcbc0ec3",
   "metadata": {},
   "source": [
    "# Save model"
   ]
  },
  {
   "cell_type": "code",
   "execution_count": null,
   "id": "b7409064-503b-4701-9739-636f2636e6c3",
   "metadata": {},
   "outputs": [],
   "source": [
    "model_path = \"models/baseline_10epochs\"\n",
    "torch.save(i3d, model_path)"
   ]
  },
  {
   "cell_type": "markdown",
   "id": "3df4bdf3-f866-4a5a-a02d-be2de8c3cada",
   "metadata": {},
   "source": [
    "Check saved output"
   ]
  },
  {
   "cell_type": "code",
   "execution_count": null,
   "id": "23ba1e1c-03d6-4bf3-b004-2041ecd74a2c",
   "metadata": {
    "tags": []
   },
   "outputs": [],
   "source": [
    "torch.load(model_path)"
   ]
  }
 ],
 "metadata": {
  "kernelspec": {
   "display_name": "cos429 [~/.conda/envs/cos429/]",
   "language": "python",
   "name": "conda_cos429"
  },
  "language_info": {
   "codemirror_mode": {
    "name": "ipython",
    "version": 3
   },
   "file_extension": ".py",
   "mimetype": "text/x-python",
   "name": "python",
   "nbconvert_exporter": "python",
   "pygments_lexer": "ipython3",
   "version": "3.8.16"
  }
 },
 "nbformat": 4,
 "nbformat_minor": 5
}
