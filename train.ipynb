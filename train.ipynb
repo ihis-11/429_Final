{
 "cells": [
  {
   "cell_type": "markdown",
   "id": "b1e19ddb-376b-40f8-8c35-3d4585c33a07",
   "metadata": {},
   "source": [
    "# Train\n",
    "This notebook trains the model."
   ]
  },
  {
   "cell_type": "code",
   "execution_count": null,
   "id": "df69e33b-93b1-44d7-ae4f-1839de62b502",
   "metadata": {},
   "outputs": [],
   "source": []
  }
 ],
 "metadata": {
  "kernelspec": {
   "display_name": "Python 3 (ipykernel)",
   "language": "python",
   "name": "python3"
  },
  "language_info": {
   "codemirror_mode": {
    "name": "ipython",
    "version": 3
   },
   "file_extension": ".py",
   "mimetype": "text/x-python",
   "name": "python",
   "nbconvert_exporter": "python",
   "pygments_lexer": "ipython3",
   "version": "3.9.7"
  }
 },
 "nbformat": 4,
 "nbformat_minor": 5
}
