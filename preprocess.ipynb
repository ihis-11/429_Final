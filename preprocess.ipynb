{
 "cells": [
  {
   "cell_type": "markdown",
   "id": "10aefa9a-5d26-4046-9775-4b1628af8956",
   "metadata": {},
   "source": [
    "# Data-Preprocessing and Saving \n",
    "This notebook pre-processes data and saves them in the `data` folder"
   ]
  },
  {
   "cell_type": "code",
   "execution_count": null,
   "id": "cdeeabd2-1567-4e5e-bb57-e2bf46cf4d30",
   "metadata": {},
   "outputs": [],
   "source": []
  }
 ],
 "metadata": {
  "kernelspec": {
   "display_name": "Python 3.7 [anaconda3/2019.10]",
   "language": "python",
   "name": "sys_python37"
  },
  "language_info": {
   "codemirror_mode": {
    "name": "ipython",
    "version": 3
   },
   "file_extension": ".py",
   "mimetype": "text/x-python",
   "name": "python",
   "nbconvert_exporter": "python",
   "pygments_lexer": "ipython3",
   "version": "3.7.4"
  }
 },
 "nbformat": 4,
 "nbformat_minor": 5
}
