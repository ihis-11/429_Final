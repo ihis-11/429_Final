{
 "cells": [
  {
   "cell_type": "markdown",
   "id": "b9283810-1cc3-400b-ab0d-2b29ad77917f",
   "metadata": {},
   "source": [
    "### Finetuning and training the Pytorch-i3d model\n",
    "Code taken from: https://github.com/piergiaj/pytorch-i3d/blob/master/train_i3d.py \n",
    "\n",
    "Note: This code was written for PyTorch 0.3. Version 0.4 and newer may cause issues."
   ]
  },
  {
   "cell_type": "markdown",
   "id": "5fbf0b21-10bf-490d-9dd2-95e35d3114e6",
   "metadata": {},
   "source": [
    "To-dos:\n",
    "1. extract videos and add labels (the line `return images, 0` assigns the label 0 to every images in the code for class `Dataset`. I have chosen the top few single-class labels in `preprocess.ipynb`, see the last cell to get the labels and associated videos through the video names, `v_names`)\n",
    "2. streamline process for training pre-trained model (loaded via `i3d.load_state_dict(torch.load('rgb_imagenet.pt'))`) (possibly creating a .py script, no need to change layers yet)\n",
    "3. run the baseline model and record baseline performance\n",
    "4. write the code for editing layers in the pretrained model"
   ]
  },
  {
   "cell_type": "code",
   "execution_count": 9,
   "id": "cb62f85b",
   "metadata": {},
   "outputs": [
    {
     "name": "stdout",
     "output_type": "stream",
     "text": [
      "Defaulting to user installation because normal site-packages is not writeable\n",
      "\u001b[33mWARNING: Retrying (Retry(total=4, connect=None, read=None, redirect=None, status=None)) after connection broken by 'NewConnectionError('<pip._vendor.urllib3.connection.VerifiedHTTPSConnection object at 0x7fc800d611c0>: Failed to establish a new connection: [Errno -2] Name or service not known')': /simple/pytorch/\u001b[0m\n",
      "\u001b[33mWARNING: Retrying (Retry(total=3, connect=None, read=None, redirect=None, status=None)) after connection broken by 'NewConnectionError('<pip._vendor.urllib3.connection.VerifiedHTTPSConnection object at 0x7fc800d61400>: Failed to establish a new connection: [Errno -2] Name or service not known')': /simple/pytorch/\u001b[0m\n",
      "\u001b[33mWARNING: Retrying (Retry(total=2, connect=None, read=None, redirect=None, status=None)) after connection broken by 'NewConnectionError('<pip._vendor.urllib3.connection.VerifiedHTTPSConnection object at 0x7fc800d61130>: Failed to establish a new connection: [Errno -2] Name or service not known')': /simple/pytorch/\u001b[0m\n",
      "\u001b[33mWARNING: Retrying (Retry(total=1, connect=None, read=None, redirect=None, status=None)) after connection broken by 'NewConnectionError('<pip._vendor.urllib3.connection.VerifiedHTTPSConnection object at 0x7fc800d61b50>: Failed to establish a new connection: [Errno -2] Name or service not known')': /simple/pytorch/\u001b[0m\n",
      "\u001b[33mWARNING: Retrying (Retry(total=0, connect=None, read=None, redirect=None, status=None)) after connection broken by 'NewConnectionError('<pip._vendor.urllib3.connection.VerifiedHTTPSConnection object at 0x7fc800d61550>: Failed to establish a new connection: [Errno -2] Name or service not known')': /simple/pytorch/\u001b[0m\n",
      "\u001b[31mERROR: Could not find a version that satisfies the requirement pytorch (from versions: none)\u001b[0m\n",
      "\u001b[31mERROR: No matching distribution found for pytorch\u001b[0m\n"
     ]
    }
   ],
   "source": [
    "!pip install pytorch"
   ]
  },
  {
   "cell_type": "code",
   "execution_count": 8,
   "id": "56422195-b081-4f3d-8b9a-8d541d0bad5c",
   "metadata": {},
   "outputs": [
    {
     "ename": "ModuleNotFoundError",
     "evalue": "No module named 'torch'",
     "output_type": "error",
     "traceback": [
      "\u001b[0;31m---------------------------------------------------------------------------\u001b[0m",
      "\u001b[0;31mModuleNotFoundError\u001b[0m                       Traceback (most recent call last)",
      "\u001b[0;32m<ipython-input-8-b5c0f4a41ca2>\u001b[0m in \u001b[0;36m<module>\u001b[0;34m\u001b[0m\n\u001b[1;32m      5\u001b[0m \u001b[0;32mimport\u001b[0m \u001b[0margparse\u001b[0m\u001b[0;34m\u001b[0m\u001b[0;34m\u001b[0m\u001b[0m\n\u001b[1;32m      6\u001b[0m \u001b[0;34m\u001b[0m\u001b[0m\n\u001b[0;32m----> 7\u001b[0;31m \u001b[0;32mimport\u001b[0m \u001b[0mtorch\u001b[0m\u001b[0;34m\u001b[0m\u001b[0;34m\u001b[0m\u001b[0m\n\u001b[0m\u001b[1;32m      8\u001b[0m \u001b[0;32mimport\u001b[0m \u001b[0mtorch\u001b[0m\u001b[0;34m.\u001b[0m\u001b[0mnn\u001b[0m \u001b[0;32mas\u001b[0m \u001b[0mnn\u001b[0m\u001b[0;34m\u001b[0m\u001b[0;34m\u001b[0m\u001b[0m\n\u001b[1;32m      9\u001b[0m \u001b[0;32mimport\u001b[0m \u001b[0mtorch\u001b[0m\u001b[0;34m.\u001b[0m\u001b[0mnn\u001b[0m\u001b[0;34m.\u001b[0m\u001b[0mfunctional\u001b[0m \u001b[0;32mas\u001b[0m \u001b[0mF\u001b[0m\u001b[0;34m\u001b[0m\u001b[0;34m\u001b[0m\u001b[0m\n",
      "\u001b[0;31mModuleNotFoundError\u001b[0m: No module named 'torch'"
     ]
    }
   ],
   "source": [
    "import os\n",
    "os.environ[\"CUDA_DEVICE_ORDER\"]=\"PCI_BUS_ID\"   \n",
    "os.environ[\"CUDA_VISIBLE_DEVICES\"]='2'\n",
    "import sys\n",
    "import argparse\n",
    "\n",
    "import torch\n",
    "import torch.nn as nn\n",
    "import torch.nn.functional as F\n",
    "import torch.optim as optim\n",
    "from torch.optim import lr_scheduler\n",
    "from torch.autograd import Variable\n",
    "\n",
    "import torchvision\n",
    "from torchvision import datasets, transforms\n",
    "import videotransforms\n",
    "\n",
    "import numpy as np\n",
    "\n",
    "from pytorch_i3d import InceptionI3d\n",
    "\n",
    "import numpy as np\n",
    "import glob\n",
    "import random\n",
    "\n",
    "from tensorboardX import SummaryWriter"
   ]
  },
  {
   "cell_type": "code",
   "execution_count": 4,
   "id": "4a76d20a-aa79-438d-95f9-b62477c305b3",
   "metadata": {},
   "outputs": [
    {
     "ename": "NameError",
     "evalue": "name 'torch' is not defined",
     "output_type": "error",
     "traceback": [
      "\u001b[0;31m---------------------------------------------------------------------------\u001b[0m",
      "\u001b[0;31mNameError\u001b[0m                                 Traceback (most recent call last)",
      "\u001b[0;32m<ipython-input-4-9b2f4fa836ca>\u001b[0m in \u001b[0;36m<module>\u001b[0;34m\u001b[0m\n\u001b[0;32m----> 1\u001b[0;31m \u001b[0;32mclass\u001b[0m \u001b[0mdataset\u001b[0m\u001b[0;34m(\u001b[0m\u001b[0mtorch\u001b[0m\u001b[0;34m.\u001b[0m\u001b[0mutils\u001b[0m\u001b[0;34m.\u001b[0m\u001b[0mdata\u001b[0m\u001b[0;34m.\u001b[0m\u001b[0mDataset\u001b[0m\u001b[0;34m)\u001b[0m\u001b[0;34m:\u001b[0m\u001b[0;34m\u001b[0m\u001b[0;34m\u001b[0m\u001b[0m\n\u001b[0m\u001b[1;32m      2\u001b[0m \u001b[0;34m\u001b[0m\u001b[0m\n\u001b[1;32m      3\u001b[0m     \u001b[0;32mdef\u001b[0m \u001b[0m__init__\u001b[0m\u001b[0;34m(\u001b[0m\u001b[0mself\u001b[0m\u001b[0;34m,\u001b[0m \u001b[0mpaths\u001b[0m\u001b[0;34m,\u001b[0m \u001b[0mnum_samples\u001b[0m\u001b[0;34m=\u001b[0m\u001b[0;36m16\u001b[0m\u001b[0;34m)\u001b[0m\u001b[0;34m:\u001b[0m \u001b[0;31m# num_samples cannot be lower than 16\u001b[0m\u001b[0;34m\u001b[0m\u001b[0;34m\u001b[0m\u001b[0m\n\u001b[1;32m      4\u001b[0m         \u001b[0mself\u001b[0m\u001b[0;34m.\u001b[0m\u001b[0mnum_samples\u001b[0m \u001b[0;34m=\u001b[0m \u001b[0mnum_samples\u001b[0m\u001b[0;34m\u001b[0m\u001b[0;34m\u001b[0m\u001b[0m\n\u001b[1;32m      5\u001b[0m         \u001b[0mself\u001b[0m\u001b[0;34m.\u001b[0m\u001b[0mframes\u001b[0m \u001b[0;34m=\u001b[0m \u001b[0mdict\u001b[0m\u001b[0;34m(\u001b[0m\u001b[0;34m)\u001b[0m\u001b[0;34m\u001b[0m\u001b[0;34m\u001b[0m\u001b[0m\n",
      "\u001b[0;31mNameError\u001b[0m: name 'torch' is not defined"
     ]
    }
   ],
   "source": [
    "class dataset(torch.utils.data.Dataset):\n",
    "    \n",
    "    def __init__(self, paths, num_samples=16): # num_samples cannot be lower than 16\n",
    "        self.num_samples = num_samples\n",
    "        self.frames = dict()\n",
    "        for p in paths:\n",
    "            self.frames[p] = sorted(glob.glob(p+\"/*.jpg\"))\n",
    "        self.data = paths\n",
    "        \n",
    "    def __len__(self):\n",
    "        return len(self.data)\n",
    "    \n",
    "    def __getitem__(self, idx):\n",
    "        p = self.data[idx]\n",
    "        num_frames = len(self.frames[p])-1\n",
    "        sampled_idx = np.linspace(0, num_frames, self.num_samples)\n",
    "        images = []\n",
    "        for i in sampled_idx:\n",
    "            image = torchvision.io.read_image(self.frames[p][int(i)])\n",
    "            small_dim = min(image.shape[-2:])\n",
    "            image = torchvision.transforms.functional.center_crop(image, (small_dim, small_dim))\n",
    "            image = torchvision.transforms.functional.resize(image, (224, 224), antialias=True)\n",
    "            images.append(image)\n",
    "        images = torch.stack(images, axis=1)\n",
    "        images = (images/255)*2 - 1 # values are between -1 and 1\n",
    "        return images, 0 # 0 is just a placeholder for labels, getitem return data, labels \n",
    "        \n",
    "video_frames_path = \"/scratch/network/hishimwe/image\" \n",
    "# add code here to only extract the videos with v_names and v_labels from preprocess.ipynb \n",
    "paths = glob.glob(video_frames_path+\"/*\")\n",
    "random.seed(0)\n",
    "random.shuffle(paths)\n",
    "d=dataset(paths=paths[:800]) # first 800, change as needed\n",
    "loader = torch.utils.data.DataLoader(d, shuffle=True, batch_size=10, drop_last=False, num_workers=4)"
   ]
  },
  {
   "cell_type": "code",
   "execution_count": null,
   "id": "5b34bc2b-1dc1-4b2d-b31b-ea80b8528827",
   "metadata": {},
   "outputs": [],
   "source": [
    "d.__getitem__(0)[0].shape, d.__getitem__(0)[1] # data, label "
   ]
  },
  {
   "cell_type": "markdown",
   "id": "851c4b99-91a9-4787-9fd2-5ba5ac9a0751",
   "metadata": {},
   "source": [
    "Need to make sure that each input has the same number of frames -> either by taking the minimum or even better just do uniform sampling (same number of frames regardless of video length)"
   ]
  },
  {
   "cell_type": "code",
   "execution_count": 2,
   "id": "31b8f33d-88ce-487f-be31-ac12c2487082",
   "metadata": {},
   "outputs": [
    {
     "ename": "NameError",
     "evalue": "name 'InceptionI3d' is not defined",
     "output_type": "error",
     "traceback": [
      "\u001b[0;31m---------------------------------------------------------------------------\u001b[0m",
      "\u001b[0;31mNameError\u001b[0m                                 Traceback (most recent call last)",
      "\u001b[0;32m<ipython-input-2-ed9f40dad355>\u001b[0m in \u001b[0;36m<module>\u001b[0;34m\u001b[0m\n\u001b[0;32m----> 1\u001b[0;31m \u001b[0mi3d\u001b[0m \u001b[0;34m=\u001b[0m \u001b[0mInceptionI3d\u001b[0m\u001b[0;34m(\u001b[0m\u001b[0;36m400\u001b[0m\u001b[0;34m,\u001b[0m \u001b[0min_channels\u001b[0m\u001b[0;34m=\u001b[0m\u001b[0;36m3\u001b[0m\u001b[0;34m)\u001b[0m\u001b[0;34m\u001b[0m\u001b[0;34m\u001b[0m\u001b[0m\n\u001b[0m\u001b[1;32m      2\u001b[0m \u001b[0mi3d\u001b[0m\u001b[0;34m.\u001b[0m\u001b[0mload_state_dict\u001b[0m\u001b[0;34m(\u001b[0m\u001b[0mtorch\u001b[0m\u001b[0;34m.\u001b[0m\u001b[0mload\u001b[0m\u001b[0;34m(\u001b[0m\u001b[0;34m'rgb_imagenet.pt'\u001b[0m\u001b[0;34m)\u001b[0m\u001b[0;34m)\u001b[0m\u001b[0;34m\u001b[0m\u001b[0;34m\u001b[0m\u001b[0m\n\u001b[1;32m      3\u001b[0m \u001b[0mi3d\u001b[0m\u001b[0;34m.\u001b[0m\u001b[0mreplace_logits\u001b[0m\u001b[0;34m(\u001b[0m\u001b[0;36m157\u001b[0m\u001b[0;34m)\u001b[0m \u001b[0;31m# replace 157 with num_classes\u001b[0m\u001b[0;34m\u001b[0m\u001b[0;34m\u001b[0m\u001b[0m\n\u001b[1;32m      4\u001b[0m \u001b[0;31m#i3d.load_state_dict(torch.load('/ssd/models/000920.pt'))\u001b[0m\u001b[0;34m\u001b[0m\u001b[0;34m\u001b[0m\u001b[0;34m\u001b[0m\u001b[0m\n\u001b[1;32m      5\u001b[0m \u001b[0mi3d\u001b[0m\u001b[0;34m.\u001b[0m\u001b[0mcuda\u001b[0m\u001b[0;34m(\u001b[0m\u001b[0;34m)\u001b[0m\u001b[0;34m\u001b[0m\u001b[0;34m\u001b[0m\u001b[0m\n",
      "\u001b[0;31mNameError\u001b[0m: name 'InceptionI3d' is not defined"
     ]
    }
   ],
   "source": [
    "i3d = InceptionI3d(400, in_channels=3) \n",
    "i3d.load_state_dict(torch.load('rgb_imagenet.pt'))\n",
    "i3d.replace_logits(157) # replace 157 with num_classes\n",
    "#i3d.load_state_dict(torch.load('/ssd/models/000920.pt'))\n",
    "i3d.cuda()\n",
    "i3d(torch.zeros(4,3,16,224,224).cuda()).shape # example input"
   ]
  },
  {
   "cell_type": "markdown",
   "id": "cff9bb17-34d0-4a24-81c1-e9416b9f786e",
   "metadata": {},
   "source": [
    "Example training:"
   ]
  },
  {
   "cell_type": "code",
   "execution_count": 5,
   "id": "dac52e08-f69e-47a4-ac7b-bedf0c8d70ed",
   "metadata": {
    "collapsed": true,
    "jupyter": {
     "outputs_hidden": true
    },
    "tags": []
   },
   "outputs": [
    {
     "name": "stdout",
     "output_type": "stream",
     "text": [
      "epoch 0: loss = 5.229801177978516\n",
      "epoch 0: loss = 2.0972135066986084\n",
      "epoch 0: loss = 0.07437565922737122\n",
      "epoch 0: loss = 0.00036732948501594365\n",
      "epoch 0: loss = 5.3908115660306066e-05\n",
      "epoch 0: loss = 3.576278118089249e-08\n",
      "epoch 0: loss = 0.0\n",
      "epoch 0: loss = 0.0\n",
      "epoch 0: loss = 0.0\n",
      "epoch 0: loss = 0.0\n",
      "epoch 0: loss = 0.0\n",
      "epoch 0: loss = 0.0\n",
      "epoch 0: loss = 0.0\n",
      "epoch 0: loss = 0.0\n",
      "epoch 0: loss = 0.0\n",
      "epoch 0: loss = 0.0\n",
      "epoch 0: loss = 0.0\n",
      "epoch 0: loss = 0.0\n",
      "epoch 0: loss = 0.0\n",
      "epoch 0: loss = 0.0\n",
      "epoch 0: loss = 0.0\n",
      "epoch 0: loss = 0.0\n",
      "epoch 0: loss = 0.0\n",
      "epoch 0: loss = 0.0\n",
      "epoch 0: loss = 0.0\n",
      "epoch 0: loss = 0.0\n",
      "epoch 0: loss = 0.0\n",
      "epoch 0: loss = 0.0\n",
      "epoch 0: loss = 0.0\n",
      "epoch 0: loss = 0.0\n",
      "epoch 0: loss = 0.0\n",
      "epoch 0: loss = 0.0\n",
      "epoch 0: loss = 0.0\n",
      "epoch 0: loss = 0.0\n",
      "epoch 0: loss = 0.0\n",
      "epoch 0: loss = 0.0\n",
      "epoch 0: loss = 0.0\n",
      "epoch 0: loss = 0.0\n",
      "epoch 0: loss = 0.0\n",
      "epoch 0: loss = 0.0\n",
      "epoch 0: loss = 0.0\n",
      "epoch 0: loss = 0.0\n",
      "epoch 0: loss = 0.0\n",
      "epoch 0: loss = 0.0\n",
      "epoch 0: loss = 0.0\n",
      "epoch 0: loss = 0.0\n",
      "epoch 0: loss = 0.0\n",
      "epoch 0: loss = 0.0\n",
      "epoch 0: loss = 0.0\n",
      "epoch 0: loss = 0.0\n",
      "epoch 0: loss = 0.0\n",
      "epoch 0: loss = 0.0\n",
      "epoch 0: loss = 0.0\n",
      "epoch 0: loss = 0.0\n",
      "epoch 0: loss = 0.0\n",
      "epoch 0: loss = 0.0\n",
      "epoch 0: loss = 0.0\n",
      "epoch 0: loss = 0.0\n",
      "epoch 0: loss = 0.0\n",
      "epoch 0: loss = 0.0\n",
      "epoch 0: loss = 0.0\n",
      "epoch 0: loss = 0.0\n",
      "epoch 0: loss = 0.0\n",
      "epoch 0: loss = 0.0\n",
      "epoch 0: loss = 0.0\n",
      "epoch 0: loss = 0.0\n",
      "epoch 0: loss = 0.0\n",
      "epoch 0: loss = 0.0\n",
      "epoch 0: loss = 0.0\n",
      "epoch 0: loss = 0.0\n",
      "epoch 0: loss = 0.0\n",
      "epoch 0: loss = 0.0\n",
      "epoch 0: loss = 0.0\n",
      "epoch 0: loss = 0.0\n",
      "epoch 0: loss = 0.0\n",
      "epoch 0: loss = 0.0\n",
      "epoch 0: loss = 0.0\n",
      "epoch 0: loss = 0.0\n",
      "epoch 0: loss = 0.0\n",
      "epoch 0: loss = 0.0\n"
     ]
    }
   ],
   "source": [
    "# set up gradient descent params\n",
    "init_lr = 0.1 # default value\n",
    "optimizer = optim.SGD(i3d.parameters(), \n",
    "                      lr=init_lr, \n",
    "                      momentum=0.9, \n",
    "                      weight_decay=0.0000001)\n",
    "lr_sched = optim.lr_scheduler.MultiStepLR(optimizer, [300, 1000])\n",
    "\n",
    "# set up training variables \n",
    "epochs = 200 # random number, change\n",
    "tot_loss = 0.0\n",
    "writer = SummaryWriter(\"deleteme\")\n",
    "step = 0\n",
    "for e in range(epochs):\n",
    "    for data, label in loader:\n",
    "        data = data.cuda()\n",
    "        label = label.cuda()\n",
    "        num_frames = data.size(2)\n",
    "        per_frame_logits = i3d(data).mean(2)\n",
    "        \n",
    "        # compute loss \n",
    "        loss = F.cross_entropy(per_frame_logits, label) \n",
    "        print(f\"epoch {e}: loss = {loss}\")\n",
    "        optimizer.zero_grad()\n",
    "        loss.backward()\n",
    "        optimizer.step() \n",
    "        writer.add_scalar(\"train/loss\", loss.item(), step) \n",
    "        step+=1\n",
    "    break # remove this to train for more than one epoch"
   ]
  },
  {
   "cell_type": "code",
   "execution_count": 6,
   "id": "f014e304-8979-4fa7-b6a0-87432f364518",
   "metadata": {},
   "outputs": [],
   "source": [
    "writer.flush() # ensure that all loss values are recorded "
   ]
  }
 ],
 "metadata": {
  "kernelspec": {
   "display_name": "Compiled MiniCourse 2020/05 [course/pycompiled/default]",
   "language": "python",
   "name": "sys_pycompiled202005"
  },
  "language_info": {
   "codemirror_mode": {
    "name": "ipython",
    "version": 3
   },
   "file_extension": ".py",
   "mimetype": "text/x-python",
   "name": "python",
   "nbconvert_exporter": "python",
   "pygments_lexer": "ipython3",
   "version": "3.8.2"
  }
 },
 "nbformat": 4,
 "nbformat_minor": 5
}
