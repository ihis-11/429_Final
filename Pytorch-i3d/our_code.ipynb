{
 "cells": [
  {
   "cell_type": "code",
   "execution_count": 2,
   "id": "10b8d1a2-40cf-4e82-9fc8-a658133a044d",
   "metadata": {},
   "outputs": [],
   "source": [
    "video_path = \"/scratch/network/hishimwe/429_Final/video\"\n",
    "image_path = \"/scratch/network/hishimwe/images\""
   ]
  },
  {
   "cell_type": "code",
   "execution_count": null,
   "id": "b7ff1d33-ea9e-4842-8780-537f43bf31e9",
   "metadata": {},
   "outputs": [],
   "source": []
  }
 ],
 "metadata": {
  "kernelspec": {
   "display_name": "cos429",
   "language": "python",
   "name": "cos429"
  },
  "language_info": {
   "codemirror_mode": {
    "name": "ipython",
    "version": 3
   },
   "file_extension": ".py",
   "mimetype": "text/x-python",
   "name": "python",
   "nbconvert_exporter": "python",
   "pygments_lexer": "ipython3",
   "version": "3.8.16"
  }
 },
 "nbformat": 4,
 "nbformat_minor": 5
}
