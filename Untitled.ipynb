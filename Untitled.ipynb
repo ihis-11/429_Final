{
 "cells": [
  {
   "cell_type": "code",
   "execution_count": null,
   "id": "fab73ebe-a4f9-4a8f-9a79-223155b412ac",
   "metadata": {},
   "outputs": [],
   "source": []
  }
 ],
 "metadata": {
  "kernelspec": {
   "display_name": "cos429 [~/.conda/envs/cos429/]",
   "language": "python",
   "name": "conda_cos429"
  },
  "language_info": {
   "codemirror_mode": {
    "name": "ipython",
    "version": 3
   },
   "file_extension": ".py",
   "mimetype": "text/x-python",
   "name": "python",
   "nbconvert_exporter": "python",
   "pygments_lexer": "ipython3",
   "version": "3.8.16"
  }
 },
 "nbformat": 4,
 "nbformat_minor": 5
}
