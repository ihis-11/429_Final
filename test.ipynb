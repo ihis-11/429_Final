{
 "cells": [
  {
   "cell_type": "markdown",
   "id": "b79b8d45-2443-4e84-8afd-e034c9dddb11",
   "metadata": {},
   "source": [
    "Test"
   ]
  }
 ],
 "metadata": {
  "kernelspec": {
   "display_name": "Python 3.7 [anaconda3/2019.10]",
   "language": "python",
   "name": "sys_python37"
  },
  "language_info": {
   "codemirror_mode": {
    "name": "ipython",
    "version": 3
   },
   "file_extension": ".py",
   "mimetype": "text/x-python",
   "name": "python",
   "nbconvert_exporter": "python",
   "pygments_lexer": "ipython3",
   "version": "3.7.4"
  }
 },
 "nbformat": 4,
 "nbformat_minor": 5
}
