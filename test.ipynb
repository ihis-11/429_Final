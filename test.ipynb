{
 "cells": [
  {
   "cell_type": "markdown",
   "id": "b79b8d45-2443-4e84-8afd-e034c9dddb11",
   "metadata": {},
   "source": [
    "# Test\n",
    "This notebook tests the model."
   ]
  },
  {
   "cell_type": "code",
   "execution_count": null,
   "id": "ee1e7662-83a1-4e79-a30f-bfb694af7032",
   "metadata": {},
   "outputs": [],
   "source": []
  }
 ],
 "metadata": {
  "kernelspec": {
   "display_name": "Python 3.7 [anaconda3/2019.10]",
   "language": "python",
   "name": "sys_python37"
  },
  "language_info": {
   "codemirror_mode": {
    "name": "ipython",
    "version": 3
   },
   "file_extension": ".py",
   "mimetype": "text/x-python",
   "name": "python",
   "nbconvert_exporter": "python",
   "pygments_lexer": "ipython3",
   "version": "3.7.4"
  }
 },
 "nbformat": 4,
 "nbformat_minor": 5
}
