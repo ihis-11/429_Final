{
 "cells": [
  {
   "cell_type": "code",
   "execution_count": 2,
   "id": "56173632-9cf5-4da8-bdee-21cb54b5f0d6",
   "metadata": {},
   "outputs": [],
   "source": [
    "import numpy as np"
   ]
  },
  {
   "cell_type": "code",
   "execution_count": 3,
   "id": "5c3f16d3-adab-4676-9510-8c677f569bc3",
   "metadata": {},
   "outputs": [],
   "source": [
    "np.savetxt(\"test\", np.array([0,1]),delimiter=\", \")"
   ]
  },
  {
   "cell_type": "code",
   "execution_count": 4,
   "id": "d86271b5-f3ec-4fab-b010-95114be7430e",
   "metadata": {},
   "outputs": [],
   "source": [
    "np.savetxt(\"test2\", np.array([0,1]))"
   ]
  },
  {
   "cell_type": "code",
   "execution_count": 1,
   "id": "2340f9a9-bec7-4065-97a8-60557f478bd1",
   "metadata": {},
   "outputs": [
    {
     "data": {
      "text/plain": [
       "0.01"
      ]
     },
     "execution_count": 1,
     "metadata": {},
     "output_type": "execute_result"
    }
   ],
   "source": [
    "0.01"
   ]
  },
  {
   "cell_type": "code",
   "execution_count": 2,
   "id": "bb18d73d-85ac-4420-aa30-9e477027e127",
   "metadata": {},
   "outputs": [
    {
     "data": {
      "text/plain": [
       "0.1"
      ]
     },
     "execution_count": 2,
     "metadata": {},
     "output_type": "execute_result"
    }
   ],
   "source": [
    "1e-1"
   ]
  }
 ],
 "metadata": {
  "kernelspec": {
   "display_name": "cos429",
   "language": "python",
   "name": "cos429"
  },
  "language_info": {
   "codemirror_mode": {
    "name": "ipython",
    "version": 3
   },
   "file_extension": ".py",
   "mimetype": "text/x-python",
   "name": "python",
   "nbconvert_exporter": "python",
   "pygments_lexer": "ipython3",
   "version": "3.8.16"
  }
 },
 "nbformat": 4,
 "nbformat_minor": 5
}
